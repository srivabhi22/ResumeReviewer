{
 "cells": [
  {
   "cell_type": "code",
   "execution_count": 2,
   "id": "2f85ce0f",
   "metadata": {},
   "outputs": [],
   "source": [
    "from dotenv import load_dotenv\n",
    "import os\n",
    "import fitz\n",
    "from PyPDF2 import PdfReader"
   ]
  },
  {
   "cell_type": "code",
   "execution_count": null,
   "id": "531d95e0",
   "metadata": {},
   "outputs": [],
   "source": [
    "ats_bullet_prompt = PromptTemplate(\n",
    "            input_variables=[\"job_description\", \"resume_content\"],\n",
    "            template=\"\"\"Rewrite the following resume content to maximize their impact for an ATS system. Focus on making the below changes:\n",
    "            - Do not change the headline and date of projects or work experience. Only modify the bullet points\n",
    "            - Start with a powerful action verbs in bullets describing about projects.\n",
    "            - Quantify achievements with specific numbers or percentages where possible.\n",
    "            - Integrate keywords from the job description below (do not use the technical skills which are missing).\n",
    "            - Make each bullet concise, clear, and results-oriented.\n",
    "\n",
    "            Job Description:\n",
    "            {job_description}\n",
    "\n",
    "            Resume Bullets:\n",
    "            {resume_content}\n",
    "\n",
    "            Return the improved bullet points as bold bullet list.\"\"\"\n",
    "        )"
   ]
  },
  {
   "cell_type": "code",
   "execution_count": null,
   "id": "856f772e",
   "metadata": {},
   "outputs": [],
   "source": [
    "def improve_ats_bullets(self, resume_path: str, job_description: str) -> str:\n",
    "        \"\"\"Improve bullet points in projects and work experience for ATS.\"\"\"\n",
    "        resume_text = self.extract_text_from_resume(resume_path)\n",
    "        \n",
    "        # Extract only work experience and projects sections\n",
    "        import re\n",
    "        pattern = r\"(Work Experience|Projects)[\\s\\S]+?(?=(?:Skills|Education|Certifications|Achievements|$))\"\n",
    "        matches = re.findall(pattern, resume_text, re.IGNORECASE)\n",
    "\n",
    "        filtered_text = \"\\n\\n\".join(matches)\n",
    "        \n",
    "        ats_chain = ats_bullet_prompt | llm\n",
    "        improved_response = ats_chain.invoke({\n",
    "            \"job_description\": job_description,\n",
    "            \"resume_content\": filtered_text\n",
    "        }).content\n",
    "        return improved_response"
   ]
  }
 ],
 "metadata": {
  "kernelspec": {
   "display_name": "venv",
   "language": "python",
   "name": "python3"
  },
  "language_info": {
   "codemirror_mode": {
    "name": "ipython",
    "version": 3
   },
   "file_extension": ".py",
   "mimetype": "text/x-python",
   "name": "python",
   "nbconvert_exporter": "python",
   "pygments_lexer": "ipython3",
   "version": "3.9.13"
  }
 },
 "nbformat": 4,
 "nbformat_minor": 5
}
